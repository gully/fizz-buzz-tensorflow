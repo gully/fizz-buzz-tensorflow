{
 "cells": [
  {
   "cell_type": "markdown",
   "metadata": {},
   "source": [
    "Experiments with TensorFlow\n",
    "\n",
    "gully\n",
    "\n",
    "June 30, 2016"
   ]
  },
  {
   "cell_type": "markdown",
   "metadata": {},
   "source": [
    "## Do hello world as a sanity check:"
   ]
  },
  {
   "cell_type": "code",
   "execution_count": 1,
   "metadata": {
    "collapsed": false
   },
   "outputs": [
    {
     "name": "stdout",
     "output_type": "stream",
     "text": [
      "b'Hello, TensorFlow!'\n"
     ]
    }
   ],
   "source": [
    "import tensorflow as tf\n",
    "hello = tf.constant('Hello, TensorFlow!')\n",
    "sess = tf.Session()\n",
    "print(sess.run(hello))"
   ]
  },
  {
   "cell_type": "markdown",
   "metadata": {},
   "source": [
    "## Fizzbuzz example"
   ]
  },
  {
   "cell_type": "code",
   "execution_count": 2,
   "metadata": {
    "collapsed": true
   },
   "outputs": [],
   "source": [
    "# %load fizz_buzz.py\n",
    "# Fizz Buzz in Tensorflow!\n",
    "# see http://joelgrus.com/2016/05/23/fizz-buzz-in-tensorflow/"
   ]
  },
  {
   "cell_type": "markdown",
   "metadata": {},
   "source": [
    "[\"Standard\"](https://en.wikipedia.org/wiki/Scare_quotes) Imports:"
   ]
  },
  {
   "cell_type": "code",
   "execution_count": 3,
   "metadata": {
    "collapsed": true
   },
   "outputs": [],
   "source": [
    "import numpy as np\n",
    "import tensorflow as tf"
   ]
  },
  {
   "cell_type": "markdown",
   "metadata": {},
   "source": [
    "### How `binary_encode()` works"
   ]
  },
  {
   "cell_type": "code",
   "execution_count": 4,
   "metadata": {
    "collapsed": true
   },
   "outputs": [],
   "source": [
    "NUM_DIGITS = 10\n",
    "\n",
    "# Represent each input by an array of its binary digits.\n",
    "def binary_encode(i, num_digits):\n",
    "    return np.array([i >> d & 1 for d in range(num_digits)])"
   ]
  },
  {
   "cell_type": "markdown",
   "metadata": {},
   "source": [
    "What is the `>>` operator?  [A Google search](http://www.tutorialspoint.com/python/python_basic_operators.htm) yields:\n",
    ">The left operands value is moved right by the number of bits specified by the right operand."
   ]
  },
  {
   "cell_type": "code",
   "execution_count": 5,
   "metadata": {
    "collapsed": false
   },
   "outputs": [
    {
     "data": {
      "text/plain": [
       "[(0, 15, 1, 1),\n",
       " (1, 7, 1, 1),\n",
       " (2, 3, 1, 1),\n",
       " (3, 1, 1, 1),\n",
       " (4, 0, 0, 0),\n",
       " (5, 0, 0, 0),\n",
       " (6, 0, 0, 0),\n",
       " (7, 0, 0, 0),\n",
       " (8, 0, 0, 0),\n",
       " (9, 0, 0, 0)]"
      ]
     },
     "execution_count": 5,
     "metadata": {},
     "output_type": "execute_result"
    }
   ],
   "source": [
    "#d = 0\n",
    "i = 15\n",
    "[(d, (i >> d) , ((i >> d) & 1), (i >> d & 1)) for d in range(10)]"
   ]
  },
  {
   "cell_type": "markdown",
   "metadata": {},
   "source": [
    "So this is all just a convenient way to represent the base-10 number $i$ in base 2, binary.  This solution has the advantage that it has a fixed number of digits, in this case `NUM_DIGITS` =10.  "
   ]
  },
  {
   "cell_type": "code",
   "execution_count": 6,
   "metadata": {
    "collapsed": false
   },
   "outputs": [
    {
     "data": {
      "text/plain": [
       "array([1, 1, 1, 1, 0, 0, 0, 0, 0, 0])"
      ]
     },
     "execution_count": 6,
     "metadata": {},
     "output_type": "execute_result"
    }
   ],
   "source": [
    "binary_encode(i, NUM_DIGITS)"
   ]
  },
  {
   "cell_type": "markdown",
   "metadata": {},
   "source": [
    "Here's an equivalent representation:"
   ]
  },
  {
   "cell_type": "code",
   "execution_count": 7,
   "metadata": {
    "collapsed": false
   },
   "outputs": [
    {
     "data": {
      "text/plain": [
       "array([1, 1, 1, 1, 0, 0, 0, 0, 0, 0])"
      ]
     },
     "execution_count": 7,
     "metadata": {},
     "output_type": "execute_result"
    }
   ],
   "source": [
    "np.array([int(el) for el in np.base_repr(i, 2, 10)])[:-10-1:-1]"
   ]
  },
  {
   "cell_type": "markdown",
   "metadata": {},
   "source": [
    "They're both a bit obfuscated.  Which one is faster?"
   ]
  },
  {
   "cell_type": "code",
   "execution_count": 8,
   "metadata": {
    "collapsed": false
   },
   "outputs": [
    {
     "name": "stdout",
     "output_type": "stream",
     "text": [
      "The slowest run took 4.53 times longer than the fastest. This could mean that an intermediate result is being cached.\n",
      "100000 loops, best of 3: 3.94 µs per loop\n"
     ]
    }
   ],
   "source": [
    "%%timeit \n",
    "binary_encode(i, NUM_DIGITS)"
   ]
  },
  {
   "cell_type": "code",
   "execution_count": 9,
   "metadata": {
    "collapsed": false
   },
   "outputs": [
    {
     "name": "stdout",
     "output_type": "stream",
     "text": [
      "The slowest run took 4.07 times longer than the fastest. This could mean that an intermediate result is being cached.\n",
      "100000 loops, best of 3: 8.48 µs per loop\n"
     ]
    }
   ],
   "source": [
    "%%timeit\n",
    "np.array([int(el) for el in np.base_repr(i, 2, 10)])[:-10-1:-1]"
   ]
  },
  {
   "cell_type": "markdown",
   "metadata": {},
   "source": [
    "Mine is twice as bad!"
   ]
  },
  {
   "cell_type": "markdown",
   "metadata": {},
   "source": [
    "### `fizz_buzz_encode()` makes sense\n",
    "One-hot encode the desired outputs: [number, \"fizz\", \"buzz\", \"fizzbuzz\"]"
   ]
  },
  {
   "cell_type": "code",
   "execution_count": 10,
   "metadata": {
    "collapsed": true
   },
   "outputs": [],
   "source": [
    "def fizz_buzz_encode(i):\n",
    "    if   i % 15 == 0: return np.array([0, 0, 0, 1])\n",
    "    elif i % 5  == 0: return np.array([0, 0, 1, 0])\n",
    "    elif i % 3  == 0: return np.array([0, 1, 0, 0])\n",
    "    else:             return np.array([1, 0, 0, 0])"
   ]
  },
  {
   "cell_type": "markdown",
   "metadata": {},
   "source": [
    "Try it:"
   ]
  },
  {
   "cell_type": "code",
   "execution_count": 11,
   "metadata": {
    "collapsed": false
   },
   "outputs": [
    {
     "data": {
      "text/plain": [
       "array(['7'], \n",
       "      dtype='<U21')"
      ]
     },
     "execution_count": 11,
     "metadata": {},
     "output_type": "execute_result"
    }
   ],
   "source": [
    "i = 7\n",
    "np.array([i, 'fizz', 'buzz', 'fizzbuzz'])[np.array([bool(el) for el in fizz_buzz_encode(i)])]"
   ]
  },
  {
   "cell_type": "markdown",
   "metadata": {},
   "source": [
    "### Train the model\n",
    "\n",
    " Our goal is to produce fizzbuzz for the numbers 1 to 100. So it would be unfair to include these in our training data.  \n",
    " Accordingly, the training data corresponds to the numbers 101 to `(2 ** NUM_DIGITS - 1)`."
   ]
  },
  {
   "cell_type": "code",
   "execution_count": 12,
   "metadata": {
    "collapsed": true
   },
   "outputs": [],
   "source": [
    "trX = np.array([binary_encode(i, NUM_DIGITS) for i in range(101, 2 ** NUM_DIGITS)])\n",
    "trY = np.array([fizz_buzz_encode(i)          for i in range(101, 2 ** NUM_DIGITS)])"
   ]
  },
  {
   "cell_type": "code",
   "execution_count": 13,
   "metadata": {
    "collapsed": false
   },
   "outputs": [
    {
     "data": {
      "text/plain": [
       "((923, 10), (923, 4))"
      ]
     },
     "execution_count": 13,
     "metadata": {},
     "output_type": "execute_result"
    }
   ],
   "source": [
    "trX.shape, trY.shape"
   ]
  },
  {
   "cell_type": "code",
   "execution_count": 14,
   "metadata": {
    "collapsed": true
   },
   "outputs": [],
   "source": [
    "# We'll want to randomly initialize weights.\n",
    "def init_weights(shape):\n",
    "    return tf.Variable(tf.random_normal(shape, stddev=0.01))"
   ]
  },
  {
   "cell_type": "markdown",
   "metadata": {},
   "source": [
    "Our model is a standard 1-hidden-layer multi-layer-perceptron with ReLU activation.  \n",
    "The softmax (which turns arbitrary real-valued outputs into probabilities) gets applied in the cost function. "
   ]
  },
  {
   "cell_type": "code",
   "execution_count": 15,
   "metadata": {
    "collapsed": true
   },
   "outputs": [],
   "source": [
    "def model(X, w_h, w_o):\n",
    "    h = tf.nn.relu(tf.matmul(X, w_h))\n",
    "    return tf.matmul(h, w_o)"
   ]
  },
  {
   "cell_type": "code",
   "execution_count": 16,
   "metadata": {
    "collapsed": true
   },
   "outputs": [],
   "source": [
    "# Our variables. The input has width NUM_DIGITS, and the output has width 4.\n",
    "X = tf.placeholder(\"float\", [None, NUM_DIGITS])\n",
    "Y = tf.placeholder(\"float\", [None, 4])"
   ]
  },
  {
   "cell_type": "code",
   "execution_count": 17,
   "metadata": {
    "collapsed": false
   },
   "outputs": [
    {
     "data": {
      "text/plain": [
       "(TensorShape([Dimension(None), Dimension(10)]),\n",
       " TensorShape([Dimension(None), Dimension(4)]))"
      ]
     },
     "execution_count": 17,
     "metadata": {},
     "output_type": "execute_result"
    }
   ],
   "source": [
    "X.get_shape(), Y.get_shape()"
   ]
  },
  {
   "cell_type": "code",
   "execution_count": 18,
   "metadata": {
    "collapsed": false
   },
   "outputs": [
    {
     "data": {
      "text/plain": [
       "'Placeholder:0'"
      ]
     },
     "execution_count": 18,
     "metadata": {},
     "output_type": "execute_result"
    }
   ],
   "source": [
    "X.name"
   ]
  },
  {
   "cell_type": "markdown",
   "metadata": {},
   "source": [
    "How many units in the hidden layer."
   ]
  },
  {
   "cell_type": "code",
   "execution_count": 19,
   "metadata": {
    "collapsed": true
   },
   "outputs": [],
   "source": [
    "NUM_HIDDEN = 100\n",
    "\n",
    "# Initialize the weights.\n",
    "w_h = init_weights([NUM_DIGITS, NUM_HIDDEN])\n",
    "w_o = init_weights([NUM_HIDDEN, 4])"
   ]
  },
  {
   "cell_type": "code",
   "execution_count": 20,
   "metadata": {
    "collapsed": false
   },
   "outputs": [
    {
     "data": {
      "text/plain": [
       "(TensorShape([Dimension(10), Dimension(100)]),\n",
       " TensorShape([Dimension(100), Dimension(4)]))"
      ]
     },
     "execution_count": 20,
     "metadata": {},
     "output_type": "execute_result"
    }
   ],
   "source": [
    "w_h.get_shape(), w_o.get_shape()"
   ]
  },
  {
   "cell_type": "code",
   "execution_count": 21,
   "metadata": {
    "collapsed": true
   },
   "outputs": [],
   "source": [
    "# Predict y given x using the model.\n",
    "py_x = model(X, w_h, w_o)"
   ]
  },
  {
   "cell_type": "code",
   "execution_count": 22,
   "metadata": {
    "collapsed": false
   },
   "outputs": [
    {
     "data": {
      "text/plain": [
       "TensorShape([Dimension(None), Dimension(4)])"
      ]
     },
     "execution_count": 22,
     "metadata": {},
     "output_type": "execute_result"
    }
   ],
   "source": [
    "py_x.get_shape()"
   ]
  },
  {
   "cell_type": "markdown",
   "metadata": {},
   "source": [
    "We'll train our model by minimizing a cost function."
   ]
  },
  {
   "cell_type": "code",
   "execution_count": 23,
   "metadata": {
    "collapsed": true
   },
   "outputs": [],
   "source": [
    "cost = tf.reduce_mean(tf.nn.softmax_cross_entropy_with_logits(py_x, Y))\n",
    "train_op = tf.train.GradientDescentOptimizer(0.05).minimize(cost)"
   ]
  },
  {
   "cell_type": "markdown",
   "metadata": {},
   "source": [
    "And we'll make predictions by choosing the largest output."
   ]
  },
  {
   "cell_type": "code",
   "execution_count": 24,
   "metadata": {
    "collapsed": true
   },
   "outputs": [],
   "source": [
    "predict_op = tf.argmax(py_x, 1)"
   ]
  },
  {
   "cell_type": "markdown",
   "metadata": {},
   "source": [
    "Check against the correct answer, since we know it:"
   ]
  },
  {
   "cell_type": "code",
   "execution_count": 25,
   "metadata": {
    "collapsed": true
   },
   "outputs": [],
   "source": [
    "correct_answer = [\"{}\".format(np.array([i, 'fizz', 'buzz', 'fizzbuzz'])[np.array([bool(el) for el in fizz_buzz_encode(i)])][0])\n",
    " for i in np.arange(1,101)]"
   ]
  },
  {
   "cell_type": "markdown",
   "metadata": {},
   "source": [
    "## Run everything"
   ]
  },
  {
   "cell_type": "code",
   "execution_count": 26,
   "metadata": {
    "collapsed": true
   },
   "outputs": [],
   "source": [
    "def fizz_buzz(i, prediction):\n",
    "    return [str(i), \"fizz\", \"buzz\", \"fizzbuzz\"][prediction]"
   ]
  },
  {
   "cell_type": "code",
   "execution_count": 27,
   "metadata": {
    "collapsed": false
   },
   "outputs": [
    {
     "name": "stdout",
     "output_type": "stream",
     "text": [
      "0000 0.467 56\n",
      "0500 0.534 47\n",
      "1000 0.561 41\n",
      "1500 0.756 25\n",
      "2000 0.914 12\n",
      "2500 0.962 12\n",
      "3000 0.973  9\n",
      "3500 0.988 10\n",
      "4000 0.989 10\n",
      "4500 0.997 10\n",
      "5000 0.989  9\n",
      "5500 0.999 10\n",
      "6000 1.000 12\n",
      "6500 1.000 12\n",
      "7000 1.000 12\n",
      "7500 1.000 13\n",
      "8000 0.999 13\n",
      "8500 1.000 13\n",
      "9000 1.000 13\n",
      "9500 1.000 13\n"
     ]
    }
   ],
   "source": [
    "BATCH_SIZE = 128\n",
    "\n",
    "# Launch the graph in a session\n",
    "with tf.Session() as sess:\n",
    "    tf.initialize_all_variables().run()\n",
    "\n",
    "    for epoch in range(10000):\n",
    "        # Shuffle the data before each training iteration.\n",
    "        p = np.random.permutation(range(len(trX)))\n",
    "        trX, trY = trX[p], trY[p]\n",
    "\n",
    "        # Train in batches of 128 inputs.\n",
    "        for start in range(0, len(trX), BATCH_SIZE):\n",
    "            end = start + BATCH_SIZE\n",
    "            sess.run(train_op, feed_dict={X: trX[start:end], Y: trY[start:end]})\n",
    "\n",
    "        # And print the current accuracy on the training data.\n",
    "        val = np.mean(np.argmax(trY, axis=1) ==\n",
    "                             sess.run(predict_op, feed_dict={X: trX, Y: trY}))\n",
    "\n",
    "        # And now for some fizz buzz\n",
    "        numbers = np.arange(1, 101)\n",
    "        teX = np.transpose(binary_encode(numbers, NUM_DIGITS))\n",
    "        teY = sess.run(predict_op, feed_dict={X: teX})\n",
    "        output = np.vectorize(fizz_buzz)(numbers, teY)\n",
    "\n",
    "        if (epoch % 500) == 0:\n",
    "            print(\"{:04d}\".format(epoch), \n",
    "                  \"{:0.3f}\".format(val), \n",
    "                  \"{: >2d}\".format((output != correct_answer).sum()))"
   ]
  },
  {
   "cell_type": "markdown",
   "metadata": {},
   "source": [
    "## The \"Correct\" answer:"
   ]
  },
  {
   "cell_type": "code",
   "execution_count": 28,
   "metadata": {
    "collapsed": false
   },
   "outputs": [],
   "source": [
    "correct_answer = [\"{}\".format(np.array([i, 'fizz', 'buzz', 'fizzbuzz'])[np.array([bool(el) for el in fizz_buzz_encode(i)])][0])\n",
    " for i in np.arange(1,101)]"
   ]
  },
  {
   "cell_type": "code",
   "execution_count": 29,
   "metadata": {
    "collapsed": false
   },
   "outputs": [
    {
     "data": {
      "text/plain": [
       "array([['1', '1'],\n",
       "       ['fizz', '2'],\n",
       "       ['fizz', 'fizz'],\n",
       "       ['buzz', '4'],\n",
       "       ['buzz', 'buzz'],\n",
       "       ['fizz', 'fizz'],\n",
       "       ['7', '7'],\n",
       "       ['8', '8'],\n",
       "       ['fizz', 'fizz'],\n",
       "       ['buzz', 'buzz'],\n",
       "       ['11', '11'],\n",
       "       ['fizz', 'fizz'],\n",
       "       ['13', '13'],\n",
       "       ['14', '14'],\n",
       "       ['fizzbuzz', 'fizzbuzz'],\n",
       "       ['16', '16'],\n",
       "       ['17', '17'],\n",
       "       ['fizz', 'fizz'],\n",
       "       ['19', '19'],\n",
       "       ['20', 'buzz'],\n",
       "       ['21', 'fizz'],\n",
       "       ['22', '22'],\n",
       "       ['23', '23'],\n",
       "       ['fizz', 'fizz'],\n",
       "       ['buzz', 'buzz'],\n",
       "       ['26', '26'],\n",
       "       ['fizz', 'fizz'],\n",
       "       ['28', '28'],\n",
       "       ['29', '29'],\n",
       "       ['fizzbuzz', 'fizzbuzz'],\n",
       "       ['31', '31'],\n",
       "       ['fizz', '32'],\n",
       "       ['fizz', 'fizz'],\n",
       "       ['fizz', '34'],\n",
       "       ['buzz', 'buzz'],\n",
       "       ['fizz', 'fizz'],\n",
       "       ['37', '37'],\n",
       "       ['fizz', '38'],\n",
       "       ['fizz', 'fizz'],\n",
       "       ['buzz', 'buzz'],\n",
       "       ['41', '41'],\n",
       "       ['fizz', 'fizz'],\n",
       "       ['43', '43'],\n",
       "       ['44', '44'],\n",
       "       ['fizzbuzz', 'fizzbuzz'],\n",
       "       ['46', '46'],\n",
       "       ['47', '47'],\n",
       "       ['fizz', 'fizz'],\n",
       "       ['49', '49'],\n",
       "       ['buzz', 'buzz'],\n",
       "       ['fizz', 'fizz'],\n",
       "       ['52', '52'],\n",
       "       ['53', '53'],\n",
       "       ['fizz', 'fizz'],\n",
       "       ['buzz', 'buzz'],\n",
       "       ['56', '56'],\n",
       "       ['fizz', 'fizz'],\n",
       "       ['58', '58'],\n",
       "       ['59', '59'],\n",
       "       ['fizzbuzz', 'fizzbuzz'],\n",
       "       ['61', '61'],\n",
       "       ['62', '62'],\n",
       "       ['fizz', 'fizz'],\n",
       "       ['64', '64'],\n",
       "       ['buzz', 'buzz'],\n",
       "       ['fizz', 'fizz'],\n",
       "       ['67', '67'],\n",
       "       ['68', '68'],\n",
       "       ['buzz', 'fizz'],\n",
       "       ['buzz', 'buzz'],\n",
       "       ['71', '71'],\n",
       "       ['fizz', 'fizz'],\n",
       "       ['73', '73'],\n",
       "       ['74', '74'],\n",
       "       ['fizzbuzz', 'fizzbuzz'],\n",
       "       ['76', '76'],\n",
       "       ['77', '77'],\n",
       "       ['fizz', 'fizz'],\n",
       "       ['79', '79'],\n",
       "       ['buzz', 'buzz'],\n",
       "       ['81', 'fizz'],\n",
       "       ['82', '82'],\n",
       "       ['83', '83'],\n",
       "       ['84', 'fizz'],\n",
       "       ['buzz', 'buzz'],\n",
       "       ['86', '86'],\n",
       "       ['87', 'fizz'],\n",
       "       ['88', '88'],\n",
       "       ['89', '89'],\n",
       "       ['fizzbuzz', 'fizzbuzz'],\n",
       "       ['91', '91'],\n",
       "       ['92', '92'],\n",
       "       ['93', 'fizz'],\n",
       "       ['94', '94'],\n",
       "       ['buzz', 'buzz'],\n",
       "       ['fizz', 'fizz'],\n",
       "       ['97', '97'],\n",
       "       ['fizz', '98'],\n",
       "       ['fizz', 'fizz'],\n",
       "       ['buzz', 'buzz']], \n",
       "      dtype='<U8')"
      ]
     },
     "execution_count": 29,
     "metadata": {},
     "output_type": "execute_result"
    }
   ],
   "source": [
    "np.vstack([output, correct_answer]).T"
   ]
  },
  {
   "cell_type": "code",
   "execution_count": 30,
   "metadata": {
    "collapsed": true
   },
   "outputs": [],
   "source": [
    "fails = output != correct_answer"
   ]
  },
  {
   "cell_type": "code",
   "execution_count": 31,
   "metadata": {
    "collapsed": false
   },
   "outputs": [
    {
     "data": {
      "text/plain": [
       "13"
      ]
     },
     "execution_count": 31,
     "metadata": {},
     "output_type": "execute_result"
    }
   ],
   "source": [
    "fails.sum()"
   ]
  },
  {
   "cell_type": "code",
   "execution_count": 32,
   "metadata": {
    "collapsed": false
   },
   "outputs": [
    {
     "data": {
      "text/plain": [
       "array([['fizz', '2'],\n",
       "       ['buzz', '4'],\n",
       "       ['20', 'buzz'],\n",
       "       ['21', 'fizz'],\n",
       "       ['fizz', '32'],\n",
       "       ['fizz', '34'],\n",
       "       ['fizz', '38'],\n",
       "       ['buzz', 'fizz'],\n",
       "       ['81', 'fizz'],\n",
       "       ['84', 'fizz'],\n",
       "       ['87', 'fizz'],\n",
       "       ['93', 'fizz'],\n",
       "       ['fizz', '98']], \n",
       "      dtype='<U8')"
      ]
     },
     "execution_count": 32,
     "metadata": {},
     "output_type": "execute_result"
    }
   ],
   "source": [
    "np.vstack([output[fails], np.array(correct_answer)[fails]]).T"
   ]
  },
  {
   "cell_type": "markdown",
   "metadata": {},
   "source": [
    "The success appears to be fickle."
   ]
  },
  {
   "cell_type": "markdown",
   "metadata": {},
   "source": [
    "The end."
   ]
  }
 ],
 "metadata": {
  "kernelspec": {
   "display_name": "Python 3",
   "language": "python",
   "name": "python3"
  },
  "language_info": {
   "codemirror_mode": {
    "name": "ipython",
    "version": 3
   },
   "file_extension": ".py",
   "mimetype": "text/x-python",
   "name": "python",
   "nbconvert_exporter": "python",
   "pygments_lexer": "ipython3",
   "version": "3.4.4"
  }
 },
 "nbformat": 4,
 "nbformat_minor": 0
}
